{
 "cells": [
  {
   "cell_type": "markdown",
   "id": "6d485314-e3d1-4518-891f-ec9de792c6a3",
   "metadata": {},
   "source": [
    "### スクレイピングで取得する項目は以下とする\n",
    "\n",
    "<ul>\n",
    "    <li>評価</li>\n",
    "    <li>ホテル名</li>\n",
    "    <li>投稿内容</li>\n",
    "    <li>目的</li>\n",
    "    <li>同伴者</li>\n",
    "    <li>Date</li>\n",
    "</ul>"
   ]
  },
  {
   "cell_type": "code",
   "execution_count": 2,
   "id": "31a7fa0f-47de-44c7-bc76-cb55d97c2584",
   "metadata": {},
   "outputs": [],
   "source": [
    "import datetime\n",
    "import numpy as np\n",
    "import os\n",
    "import pandas as pd\n",
    "import re\n",
    "import requests\n",
    "import sys\n",
    "import time\n",
    "\n",
    "from bs4 import BeautifulSoup\n",
    "from glob import glob\n",
    "from scipy.sparse import hstack\n",
    "from sklearn.feature_extraction.text import CountVectorizer\n",
    "from sklearn.feature_extraction.text import TfidfVectorizer\n",
    "from sklearn.model_selection import train_test_split\n",
    "from sklearn.metrics import accuracy_score, f1_score\n",
    "from sklearn.model_selection import RandomizedSearchCV\n",
    "from sklearn.naive_bayes import MultinomialNB\n",
    "from sklearn.svm import SVC\n",
    "\n",
    "from nlp_modules import text_to_word"
   ]
  },
  {
   "cell_type": "markdown",
   "id": "9418c17d-1039-4b53-bd7c-cc968dfb08df",
   "metadata": {},
   "source": [
    "### モデル構築のためのCSV準備"
   ]
  },
  {
   "cell_type": "markdown",
   "id": "2baa4f63-222d-405a-a5d1-596268091a2a",
   "metadata": {},
   "source": [
    "コマンドプロンプトで\n",
    "scraping.pyを起動することでsample_csvフォルダに各ホテルが生成される\n",
    "\n",
    "（エリアURLを指定することでできるが、おそらくいくつかのCSV書き出し後にブロックされる。。）"
   ]
  },
  {
   "cell_type": "markdown",
   "id": "adf7bd6e-7c65-456b-99ac-7d492af9a70b",
   "metadata": {},
   "source": [
    "### データ分析"
   ]
  },
  {
   "cell_type": "code",
   "execution_count": 5,
   "id": "cf1a832f-aa32-458d-af3d-5d7d023b0311",
   "metadata": {},
   "outputs": [],
   "source": [
    "csv_lists = glob('./sample_csv/*')\n",
    "data_dict = {}\n",
    "preffixes = 'data'\n",
    "for i, csv in enumerate(csv_lists):\n",
    "    data_dict[preffixes+str(i+1)] = pd.read_csv(csv)"
   ]
  },
  {
   "cell_type": "code",
   "execution_count": 9,
   "id": "b602d6ff-765a-48aa-bbbe-174f8c10b044",
   "metadata": {},
   "outputs": [
    {
     "data": {
      "text/plain": [
       "(593, 6)"
      ]
     },
     "execution_count": 9,
     "metadata": {},
     "output_type": "execute_result"
    }
   ],
   "source": [
    "data = pd.concat([data for data in data_dict.values()]).reset_index(drop=True)\n",
    "data['Date'] = pd.to_datetime(data['Date'], format='%Y年%m月')\n",
    "data.shape"
   ]
  },
  {
   "cell_type": "code",
   "execution_count": 10,
   "id": "9ec98daf-3e87-45bd-9098-d3716d770c0f",
   "metadata": {},
   "outputs": [],
   "source": [
    "# 前処理\n",
    "data['Comments'] = [word.strip() for word in data['Comments']]\n",
    "data['Comment_words'] = data['Comments'].apply(lambda x: text_to_word(x))"
   ]
  },
  {
   "cell_type": "code",
   "execution_count": 11,
   "id": "df437707-8ef7-4383-ae2a-b1d5c4709e22",
   "metadata": {},
   "outputs": [],
   "source": [
    "data_copy = data.copy()\n",
    "X = data_copy[['Comment_words', 'Purposes', 'companions']]\n",
    "X = pd.get_dummies(X, columns=['Purposes', 'companions'], drop_first=True)\n",
    "y = data_copy['Reputations']"
   ]
  },
  {
   "cell_type": "code",
   "execution_count": 12,
   "id": "f650b8c2-765c-4553-8dc0-cda3410e6dc1",
   "metadata": {},
   "outputs": [],
   "source": [
    "tfidf = TfidfVectorizer(min_df=4, max_df=.7)\n",
    "x = tfidf.fit_transform(X['Comment_words'])\n",
    "X_sparse = X.drop('Comment_words', axis=1).astype(pd.SparseDtype(\"int\", np.nan))"
   ]
  },
  {
   "cell_type": "code",
   "execution_count": 13,
   "id": "d17ce4d8-a631-4c7d-95c2-6fc05ab5823b",
   "metadata": {},
   "outputs": [],
   "source": [
    "X = hstack((x, X_sparse))"
   ]
  },
  {
   "cell_type": "code",
   "execution_count": 14,
   "id": "dae99668-1294-4287-91ae-3064c9112194",
   "metadata": {},
   "outputs": [
    {
     "name": "stdout",
     "output_type": "stream",
     "text": [
      "0.5714285714285714\n",
      "0.1865531914893617\n"
     ]
    }
   ],
   "source": [
    "X_train, X_test, y_train, y_test = train_test_split(X, y, test_size=0.2)\n",
    "\n",
    "nb = MultinomialNB()\n",
    "nb.fit(X_train, y_train)\n",
    "\n",
    "y_pred = nb.predict(X_test)\n",
    "print(accuracy_score(y_true=y_test, y_pred=y_pred))\n",
    "print(f1_score(y_true=y_test, y_pred=y_pred, average='macro'))"
   ]
  },
  {
   "cell_type": "code",
   "execution_count": 76,
   "id": "1358ca5b-eefc-40cd-8a5a-f24efdbaacb2",
   "metadata": {},
   "outputs": [
    {
     "name": "stderr",
     "output_type": "stream",
     "text": [
      "/opt/anaconda3/lib/python3.8/site-packages/sklearn/model_selection/_split.py:666: UserWarning: The least populated class in y has only 7 members, which is less than n_splits=10.\n",
      "  warnings.warn((\"The least populated class in y has only %d\"\n"
     ]
    },
    {
     "name": "stdout",
     "output_type": "stream",
     "text": [
      "f1 0.17315837339223075\n",
      "acc 0.6134453781512605\n"
     ]
    }
   ],
   "source": [
    "param_dst = {'C': np.arange(0.01, 10, 0.3), 'kernel': ['rbf', 'poly'], 'gamma': [0.01, 0.1]}\n",
    "\n",
    "RS = RandomizedSearchCV(estimator=SVC(), param_distributions=param_dst, n_iter=50, cv=10, random_state=123)\n",
    "RS.fit(X_train, y_train)\n",
    "y_pred2 = RS.predict(X_test)\n",
    "\n",
    "print('f1', f1_score(y_true=y_test, y_pred=y_pred, average='macro'))\n",
    "print('acc', accuracy_score(y_true=y_test, y_pred=y_pred2))"
   ]
  },
  {
   "cell_type": "code",
   "execution_count": 77,
   "id": "ce1dc398-8cd8-46bc-8c6d-2c015d7fa087",
   "metadata": {},
   "outputs": [
    {
     "data": {
      "text/plain": [
       "{'kernel': 'rbf', 'gamma': 0.1, 'C': 4.51}"
      ]
     },
     "execution_count": 77,
     "metadata": {},
     "output_type": "execute_result"
    }
   ],
   "source": [
    "RS.best_params_"
   ]
  },
  {
   "cell_type": "code",
   "execution_count": 15,
   "id": "b57769a0-b2b7-4153-936d-1200656fac95",
   "metadata": {},
   "outputs": [
    {
     "name": "stdout",
     "output_type": "stream",
     "text": [
      "f1 0.04928899186770252\n",
      "acc 0.058823529411764705\n"
     ]
    }
   ],
   "source": [
    "from sklearn.cluster import SpectralClustering\n",
    "\n",
    "\n",
    "sp = SpectralClustering(n_clusters=5, affinity='nearest_neighbors')\n",
    "\n",
    "y_sp = sp.fit_predict(X_test)\n",
    "print('f1', f1_score(y_true=y_test, y_pred=y_sp, average='macro'))\n",
    "print('acc', accuracy_score(y_true=y_test, y_pred=y_sp))"
   ]
  },
  {
   "cell_type": "code",
   "execution_count": null,
   "id": "f41c71b8-f63a-40e2-84d4-458af3d2293d",
   "metadata": {},
   "outputs": [],
   "source": []
  }
 ],
 "metadata": {
  "kernelspec": {
   "display_name": "Python 3",
   "language": "python",
   "name": "python3"
  },
  "language_info": {
   "codemirror_mode": {
    "name": "ipython",
    "version": 3
   },
   "file_extension": ".py",
   "mimetype": "text/x-python",
   "name": "python",
   "nbconvert_exporter": "python",
   "pygments_lexer": "ipython3",
   "version": "3.8.8"
  }
 },
 "nbformat": 4,
 "nbformat_minor": 5
}
